{
  "nbformat": 4,
  "nbformat_minor": 0,
  "metadata": {
    "colab": {
      "name": "colab_intro.ipynb",
      "provenance": [],
      "collapsed_sections": [],
      "include_colab_link": true
    },
    "kernelspec": {
      "name": "python3",
      "display_name": "Python 3"
    },
    "language_info": {
      "name": "python"
    }
  },
  "cells": [
    {
      "cell_type": "markdown",
      "metadata": {
        "id": "view-in-github",
        "colab_type": "text"
      },
      "source": [
        "<a href=\"https://colab.research.google.com/github/ChocoPieJung/python-practice/blob/main/colab_intro.ipynb\" target=\"_parent\"><img src=\"https://colab.research.google.com/assets/colab-badge.svg\" alt=\"Open In Colab\"/></a>"
      ]
    },
    {
      "cell_type": "markdown",
      "source": [
        "# Python Practice"
      ],
      "metadata": {
        "id": "rFBoI5WhIP9Q"
      }
    },
    {
      "cell_type": "markdown",
      "source": [
        "## input 함수와 print 함수"
      ],
      "metadata": {
        "id": "CwcJ8r6XL3QW"
      }
    },
    {
      "cell_type": "code",
      "execution_count": 12,
      "metadata": {
        "id": "2m9FbvUoINBg",
        "colab": {
          "base_uri": "https://localhost:8080/"
        },
        "outputId": "507f7ed3-b379-4527-e44b-b86e4cb337aa"
      },
      "outputs": [
        {
          "output_type": "stream",
          "name": "stdout",
          "text": [
            "안녕하세요? 오늘 기분은 어떤가요?좋다\n",
            "좋다\n",
            "오늘 기분이 좋다 라고 답했어요\n"
          ]
        }
      ],
      "source": [
        "# input 함수와 print 함수\n",
        "\n",
        "example = input(\"안녕하세요? 오늘 기분은 어떤가요?\")\n",
        "# exmaple 출력\n",
        "print(example)\n",
        "# f-string을 사용한 출력\n",
        "print(f\"오늘 기분이 {example} 라고 답했어요\")\n",
        "\n"
      ]
    },
    {
      "cell_type": "markdown",
      "source": [
        "## 문자열 자료형"
      ],
      "metadata": {
        "id": "scvQU6KpMAQq"
      }
    },
    {
      "cell_type": "code",
      "source": [
        "# sample code 작성하기\n",
        "str='sookmyung'\n",
        "print(str[0])\n",
        "print(str[0:4])"
      ],
      "metadata": {
        "id": "YdhlDXoJKk3P",
        "colab": {
          "base_uri": "https://localhost:8080/"
        },
        "outputId": "cb32d9dd-ad3e-4abc-bf53-08f031bbf8ba"
      },
      "execution_count": 15,
      "outputs": [
        {
          "output_type": "stream",
          "name": "stdout",
          "text": [
            "s\n",
            "sook\n"
          ]
        }
      ]
    },
    {
      "cell_type": "markdown",
      "source": [
        "## 리스트 자료형"
      ],
      "metadata": {
        "id": "Srb_7e00MBCK"
      }
    },
    {
      "cell_type": "code",
      "source": [
        "# sample code 작성하기\n",
        "##리스트는 대괄호로\n",
        "my_list=[1,2,3,'hi!',4,5]\n",
        "print(my_list[0:4])"
      ],
      "metadata": {
        "id": "QysPX7v0MBhK",
        "colab": {
          "base_uri": "https://localhost:8080/"
        },
        "outputId": "64718fd0-2202-4ec2-9ff9-796a5dedc8ef"
      },
      "execution_count": 16,
      "outputs": [
        {
          "output_type": "stream",
          "name": "stdout",
          "text": [
            "[1, 2, 3, 'hi!']\n"
          ]
        }
      ]
    },
    {
      "cell_type": "markdown",
      "source": [
        "## 튜플 자료형"
      ],
      "metadata": {
        "id": "RBzDKWlSMC3P"
      }
    },
    {
      "cell_type": "code",
      "source": [
        "# sample code 작성하기\n",
        "##리스트와 같지만 수정이 불가하다 -> 보안에 용이\n",
        "### 튜플 자료는 소괄호로\n",
        "my_tuple=(1,2,3,'a','aa')\n",
        "print(my_tuple[2:])"
      ],
      "metadata": {
        "id": "AalkYwrJMGJZ",
        "colab": {
          "base_uri": "https://localhost:8080/"
        },
        "outputId": "75306a89-5972-4c16-8262-be47bfeabed4"
      },
      "execution_count": 19,
      "outputs": [
        {
          "output_type": "stream",
          "name": "stdout",
          "text": [
            "(3, 'a', 'aa')\n"
          ]
        }
      ]
    },
    {
      "cell_type": "markdown",
      "source": [
        "## 딕셔너리 자료형"
      ],
      "metadata": {
        "id": "454XHQQ8MGso"
      }
    },
    {
      "cell_type": "code",
      "source": [
        "# sample code 작성하기\n",
        "my_dic={'몇년도?':2022, '몇월?':2, '가장 좋아하는 요일은?':'금요일' }\n",
        "print(my_dic['가장 좋아하는 요일은?'])"
      ],
      "metadata": {
        "id": "rmEeXjiNObBf",
        "colab": {
          "base_uri": "https://localhost:8080/"
        },
        "outputId": "7e0a392f-b917-4de5-d625-b9251035ff76"
      },
      "execution_count": 24,
      "outputs": [
        {
          "output_type": "stream",
          "name": "stdout",
          "text": [
            "금요일\n"
          ]
        }
      ]
    },
    {
      "cell_type": "markdown",
      "source": [
        "# 미션 1\n",
        "#### 이름과 태어난 연도를 입력받아 나이와 함께 인사하는 코드 작성하기\n",
        "\n",
        "* 사용자에게 총 2번의 입력을 받아 각각 서로 다른 변수에 저장해주세요. <br>\n",
        "이름 (name), 태어난 해 (born)\n",
        "\n",
        "* 이 변수 2개를 모두 활용해 나이(age)를 계산한 다음, 인사를 하는 프로그램을 작성해주세요. <br>\n",
        "(예) 재석님, 안녕하세요! 올해 51살이 되셨군요?"
      ],
      "metadata": {
        "id": "AqwAnU0WOggx"
      }
    },
    {
      "cell_type": "code",
      "source": [
        "print(\"=\" * 50) # 가로줄 출력\n",
        "\n",
        "# 각 값을 입력 받기\n",
        "name = input('이름을 입력해 주세요.')\n",
        "born = int(input('태어난 해를 입력해 주세요.'))\n",
        "\n",
        "# 나이 계산하는 식 작성하기\n",
        "age = 2022-born+1\n",
        "\n",
        "print(\"=\" * 50)\n",
        "\n",
        "# f-string을 사용해 출력하기\n",
        "print(f\"{name}님. 안녕하세요. 올해 {age}세가 되셨군요.\")"
      ],
      "metadata": {
        "id": "epyu09CtOsLn",
        "colab": {
          "base_uri": "https://localhost:8080/"
        },
        "outputId": "a92dcc8a-bf5e-4a4f-aa01-e764975247ce"
      },
      "execution_count": 34,
      "outputs": [
        {
          "output_type": "stream",
          "name": "stdout",
          "text": [
            "==================================================\n",
            "이름을 입력해 주세요.은정\n",
            "태어난 해를 입력해 주세요.1996\n",
            "==================================================\n",
            "은정님. 안녕하세요. 올해 27세가 되셨군요.\n"
          ]
        }
      ]
    },
    {
      "cell_type": "markdown",
      "source": [
        "## while문"
      ],
      "metadata": {
        "id": "HgoDRNvpThAL"
      }
    },
    {
      "cell_type": "code",
      "source": [
        "# sample code 작성하기\n",
        "# 반복문에서 사용\n"
      ],
      "metadata": {
        "id": "TFPpx725OxTC"
      },
      "execution_count": 35,
      "outputs": []
    },
    {
      "cell_type": "markdown",
      "source": [
        "## for문"
      ],
      "metadata": {
        "id": "doQkOs0aTlXB"
      }
    },
    {
      "cell_type": "code",
      "source": [
        "# sample code 작성하기\n",
        "for i in range(10):\n",
        "    print('hello')"
      ],
      "metadata": {
        "id": "_5nS-IyaTlKY",
        "colab": {
          "base_uri": "https://localhost:8080/"
        },
        "outputId": "eed40aa6-8141-4bca-faa3-f924a98ac677"
      },
      "execution_count": 38,
      "outputs": [
        {
          "output_type": "stream",
          "name": "stdout",
          "text": [
            "hello\n",
            "hello\n",
            "hello\n",
            "hello\n",
            "hello\n",
            "hello\n",
            "hello\n",
            "hello\n",
            "hello\n",
            "hello\n"
          ]
        }
      ]
    },
    {
      "cell_type": "markdown",
      "source": [
        "## if문"
      ],
      "metadata": {
        "id": "u-2-BBE_Tpmw"
      }
    },
    {
      "cell_type": "code",
      "source": [
        "# sample code 작성하기\n",
        "password='jej114'\n",
        "my_input=input('PASSWORD:')\n",
        "if password==my_input: # == equal의 의미\n",
        "    print('LOGIN')\n",
        "else:\n",
        "    print('FAIL')\n",
        "print('='*50)\n"
      ],
      "metadata": {
        "id": "15Gww_3OTpUA",
        "colab": {
          "base_uri": "https://localhost:8080/"
        },
        "outputId": "d4369975-254c-450b-cc26-dba3c42fbfb2"
      },
      "execution_count": 46,
      "outputs": [
        {
          "output_type": "stream",
          "name": "stdout",
          "text": [
            "PASSWORD:jej114\n",
            "LOGIN\n",
            "==================================================\n",
            "나이를 입력해 주세요.28\n",
            "24세 이상입니다\n"
          ]
        }
      ]
    },
    {
      "cell_type": "code",
      "source": [
        "age=int(input('나이를 입력해 주세요.'))\n",
        "if age<20:\n",
        "  print('10대 입니다')\n",
        "elif 20<=age<=23:\n",
        "  print('20세 이상 23세 이하 입니다')\n",
        "elif 24<=age<=26:\n",
        "  print('24세 이상 26세 이하 입니다')\n",
        "elif 27<=age<=30:\n",
        "  print('27세 이상 30세 이하 입니다')"
      ],
      "metadata": {
        "colab": {
          "base_uri": "https://localhost:8080/"
        },
        "id": "CgrNyBb9jaO4",
        "outputId": "f3b65fce-6fd0-4c11-f1f3-4ddee12b83bf"
      },
      "execution_count": 49,
      "outputs": [
        {
          "output_type": "stream",
          "name": "stdout",
          "text": [
            "나이를 입력해 주세요.25\n",
            "24세 이상 26세 이하 입니다\n"
          ]
        }
      ]
    },
    {
      "cell_type": "markdown",
      "source": [
        "# 미션 2\n",
        "#### 몬스터 10마리를 잡으면 LEVEL UP!하는 프로그램 작성하기\n",
        "\n",
        "* 잡은 몬스터 수를 세는 변수에 초기값으로 0을 저장해주세요.\n",
        "* 반복문을 사용해서 몬스터를 잡을 때마다 1을 더해주세요.\n",
        "* 잡은 몬스터 수가 1마리 ~ 10마리일 때까지 현재 몬스터 수를 출력하고\n",
        "* 10마리가 되면 LEVEL UP!을 출력해주세요.\n"
      ],
      "metadata": {
        "id": "2Yx_mmrpboIW"
      }
    },
    {
      "cell_type": "code",
      "source": [
        "kill_count = 0\n",
        "\n",
        "# 10번 반복하기\n",
        "while kill_count<10:\n",
        "    print('몬스터를 더 잡으세요.')\n",
        "    kill_count=kill_count+1\n",
        "    print(f'현재 몬스터 수: {kill_count}')\n",
        "    if kill_count==10:\n",
        "      print('level up')\n",
        "\n",
        "\n",
        "\n",
        "# 반복문 안에서는 kill_count에 1을 더하고 현재 몬스터 수를 출력한다.\n",
        "\n"
      ],
      "metadata": {
        "id": "u6SIOQdEbon0",
        "colab": {
          "base_uri": "https://localhost:8080/"
        },
        "outputId": "e2ce7b5f-2397-414d-fd0e-3938125e4b55"
      },
      "execution_count": 107,
      "outputs": [
        {
          "output_type": "stream",
          "name": "stdout",
          "text": [
            "몬스터를 더 잡으세요.\n",
            "현재 몬스터 수: 1\n",
            "몬스터를 더 잡으세요.\n",
            "현재 몬스터 수: 2\n",
            "몬스터를 더 잡으세요.\n",
            "현재 몬스터 수: 3\n",
            "몬스터를 더 잡으세요.\n",
            "현재 몬스터 수: 4\n",
            "몬스터를 더 잡으세요.\n",
            "현재 몬스터 수: 5\n",
            "몬스터를 더 잡으세요.\n",
            "현재 몬스터 수: 6\n",
            "몬스터를 더 잡으세요.\n",
            "현재 몬스터 수: 7\n",
            "몬스터를 더 잡으세요.\n",
            "현재 몬스터 수: 8\n",
            "몬스터를 더 잡으세요.\n",
            "현재 몬스터 수: 9\n",
            "몬스터를 더 잡으세요.\n",
            "현재 몬스터 수: 10\n",
            "level up\n"
          ]
        }
      ]
    },
    {
      "cell_type": "markdown",
      "source": [
        "# 미션 3\n",
        "#### 카페 주문 프로그램 작성하기 (토요일 오전 미션)\n",
        "\n",
        "* 1번 메뉴는 아메리카노(4100원), 2번 메뉴는 카페라떼(4600원), 3번 메뉴는 바닐라라떼(5100원)입니다.\n",
        "* 주문하실 메뉴 번호(order)를 입력합니다.\n",
        "* 조건문을 이용해서 메뉴 번호(order)에 맞는 금액(price)이 계산되도록 식을 만들어주세요. (1을 입력하면 4100원, 2를 입력하면 4600원, 3을 입력하면 5100원)\n",
        "* 총 금액(total_price)을 구하는 식을 만들어주세요.\n",
        "* 투입한 금액(money)이 총 금액보다 크면 거스름돈(change)을 계산하고, 부족하면 주문을 취소합니다.\n",
        "* 메뉴 번호 4를 입력하면 주문이 취소되면서 반복문을 빠져나옵니다.\n",
        "\n"
      ],
      "metadata": {
        "id": "17AqYKjngEo3"
      }
    },
    {
      "cell_type": "code",
      "source": [
        "while True :\n",
        "  print(\"=\" * 45)\n",
        "  menu = \" 1. 아메리카노 : 4100원 \\n 2. 카페라떼 : 4600원 \\n 3. 바닐라라떼 : 5100원 \\n 4. 주문 종료\"\n",
        "  print(menu)\n",
        "  print(\"=\" * 45)\n",
        "\n",
        "  # # 커피 종류를 입력받습니다. \n",
        "  order = int(input('커피 종류를 입력해주세요.(숫자만 입력)'))\n",
        "  if order==1:\n",
        "    print('아메리카노')\n",
        "  elif order==2:\n",
        "    print('카페라떼')\n",
        "  elif order==3:\n",
        "    print('바닐라라떼')\n",
        "\n",
        "  if order in [1,2,3] :\n",
        "    # 입력한 커피 가격을 price 변수에 넣어줍니다. \n",
        "    price={1:4100,2:4600,3:5100}\n",
        "\n",
        "    cups = int(input(\"몇 잔을 드릴까요? 잔 수 입력 >>> \"))\n",
        "    # 총 금액을 계산하고 total_price 변수에 넣어줍니다.\n",
        "    total_price=int(price[order])*cups\n",
        "\n",
        "    money = int(input(f\"총 금액은 {total_price}원 입니다. 돈을 투입해주세요 >>> \"))\n",
        "    # 총 금액보다 투입 금액이 큰 경우 거스름돈을 계산하고 출력합니다.\n",
        "    if money>total_price:\n",
        "      change=money-total_price\n",
        "      print(f'잔돈 {change}원 입니다.')\n",
        "\n",
        "    # 총 금액보다 작은 금액을 입력한 경우 주문을 취소합니다.\n",
        "    elif money<total_price: \n",
        "      print(\"금액이 부족합니다. 주문이 취소되었습니다.\")\n",
        "\n",
        "  elif order == 4 :\n",
        "    # 4를 입력하면 주문을 종료하고 반복문을 빠져나갑니다.\n",
        "    print(\"주문을 종료합니다.\")\n",
        "    # 반복문 빠져나가기\n",
        "    break\n",
        "\n",
        "  # 1,2,3,4가 아닌 다른 숫자를 입력한 경우 \"잘못된 주문입니다\"를 출력합니다.\n",
        "  else :\n",
        "      print(\"잘못된 주문입니다.\")"
      ],
      "metadata": {
        "id": "wRrKf3NJg_yy",
        "colab": {
          "base_uri": "https://localhost:8080/",
          "height": 1000
        },
        "outputId": "cd317832-3a34-4a2b-fbdc-b98beeeb605d"
      },
      "execution_count": 41,
      "outputs": [
        {
          "output_type": "stream",
          "name": "stdout",
          "text": [
            "=============================================\n",
            " 1. 아메리카노 : 4100원 \n",
            " 2. 카페라떼 : 4600원 \n",
            " 3. 바닐라라떼 : 5100원 \n",
            " 4. 주문 종료\n",
            "=============================================\n",
            "커피 종류를 입력해주세요.(숫자만 입력)1\n",
            "아메리카노\n",
            "몇 잔을 드릴까요? 잔 수 입력 >>> 1\n",
            "총 금액은 4100원 입니다. 돈을 투입해주세요 >>> 4000\n",
            "금액이 부족합니다. 주문이 취소되었습니다.\n",
            "=============================================\n",
            " 1. 아메리카노 : 4100원 \n",
            " 2. 카페라떼 : 4600원 \n",
            " 3. 바닐라라떼 : 5100원 \n",
            " 4. 주문 종료\n",
            "=============================================\n",
            "커피 종류를 입력해주세요.(숫자만 입력)1\n",
            "아메리카노\n",
            "몇 잔을 드릴까요? 잔 수 입력 >>> 1\n",
            "총 금액은 4100원 입니다. 돈을 투입해주세요 >>> 4100\n",
            "=============================================\n",
            " 1. 아메리카노 : 4100원 \n",
            " 2. 카페라떼 : 4600원 \n",
            " 3. 바닐라라떼 : 5100원 \n",
            " 4. 주문 종료\n",
            "=============================================\n"
          ]
        },
        {
          "output_type": "error",
          "ename": "KeyboardInterrupt",
          "evalue": "ignored",
          "traceback": [
            "\u001b[0;31m---------------------------------------------------------------------------\u001b[0m",
            "\u001b[0;31mKeyboardInterrupt\u001b[0m                         Traceback (most recent call last)",
            "\u001b[0;32m/usr/local/lib/python3.7/dist-packages/ipykernel/kernelbase.py\u001b[0m in \u001b[0;36m_input_request\u001b[0;34m(self, prompt, ident, parent, password)\u001b[0m\n\u001b[1;32m    728\u001b[0m             \u001b[0;32mtry\u001b[0m\u001b[0;34m:\u001b[0m\u001b[0;34m\u001b[0m\u001b[0;34m\u001b[0m\u001b[0m\n\u001b[0;32m--> 729\u001b[0;31m                 \u001b[0mident\u001b[0m\u001b[0;34m,\u001b[0m \u001b[0mreply\u001b[0m \u001b[0;34m=\u001b[0m \u001b[0mself\u001b[0m\u001b[0;34m.\u001b[0m\u001b[0msession\u001b[0m\u001b[0;34m.\u001b[0m\u001b[0mrecv\u001b[0m\u001b[0;34m(\u001b[0m\u001b[0mself\u001b[0m\u001b[0;34m.\u001b[0m\u001b[0mstdin_socket\u001b[0m\u001b[0;34m,\u001b[0m \u001b[0;36m0\u001b[0m\u001b[0;34m)\u001b[0m\u001b[0;34m\u001b[0m\u001b[0;34m\u001b[0m\u001b[0m\n\u001b[0m\u001b[1;32m    730\u001b[0m             \u001b[0;32mexcept\u001b[0m \u001b[0mException\u001b[0m\u001b[0;34m:\u001b[0m\u001b[0;34m\u001b[0m\u001b[0;34m\u001b[0m\u001b[0m\n",
            "\u001b[0;32m/usr/local/lib/python3.7/dist-packages/jupyter_client/session.py\u001b[0m in \u001b[0;36mrecv\u001b[0;34m(self, socket, mode, content, copy)\u001b[0m\n\u001b[1;32m    802\u001b[0m         \u001b[0;32mtry\u001b[0m\u001b[0;34m:\u001b[0m\u001b[0;34m\u001b[0m\u001b[0;34m\u001b[0m\u001b[0m\n\u001b[0;32m--> 803\u001b[0;31m             \u001b[0mmsg_list\u001b[0m \u001b[0;34m=\u001b[0m \u001b[0msocket\u001b[0m\u001b[0;34m.\u001b[0m\u001b[0mrecv_multipart\u001b[0m\u001b[0;34m(\u001b[0m\u001b[0mmode\u001b[0m\u001b[0;34m,\u001b[0m \u001b[0mcopy\u001b[0m\u001b[0;34m=\u001b[0m\u001b[0mcopy\u001b[0m\u001b[0;34m)\u001b[0m\u001b[0;34m\u001b[0m\u001b[0;34m\u001b[0m\u001b[0m\n\u001b[0m\u001b[1;32m    804\u001b[0m         \u001b[0;32mexcept\u001b[0m \u001b[0mzmq\u001b[0m\u001b[0;34m.\u001b[0m\u001b[0mZMQError\u001b[0m \u001b[0;32mas\u001b[0m \u001b[0me\u001b[0m\u001b[0;34m:\u001b[0m\u001b[0;34m\u001b[0m\u001b[0;34m\u001b[0m\u001b[0m\n",
            "\u001b[0;32m/usr/local/lib/python3.7/dist-packages/zmq/sugar/socket.py\u001b[0m in \u001b[0;36mrecv_multipart\u001b[0;34m(self, flags, copy, track)\u001b[0m\n\u001b[1;32m    624\u001b[0m         \"\"\"\n\u001b[0;32m--> 625\u001b[0;31m         \u001b[0mparts\u001b[0m \u001b[0;34m=\u001b[0m \u001b[0;34m[\u001b[0m\u001b[0mself\u001b[0m\u001b[0;34m.\u001b[0m\u001b[0mrecv\u001b[0m\u001b[0;34m(\u001b[0m\u001b[0mflags\u001b[0m\u001b[0;34m,\u001b[0m \u001b[0mcopy\u001b[0m\u001b[0;34m=\u001b[0m\u001b[0mcopy\u001b[0m\u001b[0;34m,\u001b[0m \u001b[0mtrack\u001b[0m\u001b[0;34m=\u001b[0m\u001b[0mtrack\u001b[0m\u001b[0;34m)\u001b[0m\u001b[0;34m]\u001b[0m\u001b[0;34m\u001b[0m\u001b[0;34m\u001b[0m\u001b[0m\n\u001b[0m\u001b[1;32m    626\u001b[0m         \u001b[0;31m# have first part already, only loop while more to receive\u001b[0m\u001b[0;34m\u001b[0m\u001b[0;34m\u001b[0m\u001b[0;34m\u001b[0m\u001b[0m\n",
            "\u001b[0;32mzmq/backend/cython/socket.pyx\u001b[0m in \u001b[0;36mzmq.backend.cython.socket.Socket.recv\u001b[0;34m()\u001b[0m\n",
            "\u001b[0;32mzmq/backend/cython/socket.pyx\u001b[0m in \u001b[0;36mzmq.backend.cython.socket.Socket.recv\u001b[0;34m()\u001b[0m\n",
            "\u001b[0;32mzmq/backend/cython/socket.pyx\u001b[0m in \u001b[0;36mzmq.backend.cython.socket._recv_copy\u001b[0;34m()\u001b[0m\n",
            "\u001b[0;32m/usr/local/lib/python3.7/dist-packages/zmq/backend/cython/checkrc.pxd\u001b[0m in \u001b[0;36mzmq.backend.cython.checkrc._check_rc\u001b[0;34m()\u001b[0m\n",
            "\u001b[0;31mKeyboardInterrupt\u001b[0m: ",
            "\nDuring handling of the above exception, another exception occurred:\n",
            "\u001b[0;31mKeyboardInterrupt\u001b[0m                         Traceback (most recent call last)",
            "\u001b[0;32m<ipython-input-41-293a871b5f74>\u001b[0m in \u001b[0;36m<module>\u001b[0;34m()\u001b[0m\n\u001b[1;32m      6\u001b[0m \u001b[0;34m\u001b[0m\u001b[0m\n\u001b[1;32m      7\u001b[0m   \u001b[0;31m# # 커피 종류를 입력받습니다.\u001b[0m\u001b[0;34m\u001b[0m\u001b[0;34m\u001b[0m\u001b[0;34m\u001b[0m\u001b[0m\n\u001b[0;32m----> 8\u001b[0;31m   \u001b[0morder\u001b[0m \u001b[0;34m=\u001b[0m \u001b[0mint\u001b[0m\u001b[0;34m(\u001b[0m\u001b[0minput\u001b[0m\u001b[0;34m(\u001b[0m\u001b[0;34m'커피 종류를 입력해주세요.(숫자만 입력)'\u001b[0m\u001b[0;34m)\u001b[0m\u001b[0;34m)\u001b[0m\u001b[0;34m\u001b[0m\u001b[0;34m\u001b[0m\u001b[0m\n\u001b[0m\u001b[1;32m      9\u001b[0m   \u001b[0;32mif\u001b[0m \u001b[0morder\u001b[0m\u001b[0;34m==\u001b[0m\u001b[0;36m1\u001b[0m\u001b[0;34m:\u001b[0m\u001b[0;34m\u001b[0m\u001b[0;34m\u001b[0m\u001b[0m\n\u001b[1;32m     10\u001b[0m     \u001b[0mprint\u001b[0m\u001b[0;34m(\u001b[0m\u001b[0;34m'아메리카노'\u001b[0m\u001b[0;34m)\u001b[0m\u001b[0;34m\u001b[0m\u001b[0;34m\u001b[0m\u001b[0m\n",
            "\u001b[0;32m/usr/local/lib/python3.7/dist-packages/ipykernel/kernelbase.py\u001b[0m in \u001b[0;36mraw_input\u001b[0;34m(self, prompt)\u001b[0m\n\u001b[1;32m    702\u001b[0m             \u001b[0mself\u001b[0m\u001b[0;34m.\u001b[0m\u001b[0m_parent_ident\u001b[0m\u001b[0;34m,\u001b[0m\u001b[0;34m\u001b[0m\u001b[0;34m\u001b[0m\u001b[0m\n\u001b[1;32m    703\u001b[0m             \u001b[0mself\u001b[0m\u001b[0;34m.\u001b[0m\u001b[0m_parent_header\u001b[0m\u001b[0;34m,\u001b[0m\u001b[0;34m\u001b[0m\u001b[0;34m\u001b[0m\u001b[0m\n\u001b[0;32m--> 704\u001b[0;31m             \u001b[0mpassword\u001b[0m\u001b[0;34m=\u001b[0m\u001b[0;32mFalse\u001b[0m\u001b[0;34m,\u001b[0m\u001b[0;34m\u001b[0m\u001b[0;34m\u001b[0m\u001b[0m\n\u001b[0m\u001b[1;32m    705\u001b[0m         )\n\u001b[1;32m    706\u001b[0m \u001b[0;34m\u001b[0m\u001b[0m\n",
            "\u001b[0;32m/usr/local/lib/python3.7/dist-packages/ipykernel/kernelbase.py\u001b[0m in \u001b[0;36m_input_request\u001b[0;34m(self, prompt, ident, parent, password)\u001b[0m\n\u001b[1;32m    732\u001b[0m             \u001b[0;32mexcept\u001b[0m \u001b[0mKeyboardInterrupt\u001b[0m\u001b[0;34m:\u001b[0m\u001b[0;34m\u001b[0m\u001b[0;34m\u001b[0m\u001b[0m\n\u001b[1;32m    733\u001b[0m                 \u001b[0;31m# re-raise KeyboardInterrupt, to truncate traceback\u001b[0m\u001b[0;34m\u001b[0m\u001b[0;34m\u001b[0m\u001b[0;34m\u001b[0m\u001b[0m\n\u001b[0;32m--> 734\u001b[0;31m                 \u001b[0;32mraise\u001b[0m \u001b[0mKeyboardInterrupt\u001b[0m\u001b[0;34m\u001b[0m\u001b[0;34m\u001b[0m\u001b[0m\n\u001b[0m\u001b[1;32m    735\u001b[0m             \u001b[0;32melse\u001b[0m\u001b[0;34m:\u001b[0m\u001b[0;34m\u001b[0m\u001b[0;34m\u001b[0m\u001b[0m\n\u001b[1;32m    736\u001b[0m                 \u001b[0;32mbreak\u001b[0m\u001b[0;34m\u001b[0m\u001b[0;34m\u001b[0m\u001b[0m\n",
            "\u001b[0;31mKeyboardInterrupt\u001b[0m: "
          ]
        }
      ]
    },
    {
      "cell_type": "code",
      "source": [
        "while True :\n",
        "  print(\"=\" * 45)\n",
        "  menu = {'아메리카노':1, '카페라떼':2, '바닐라라떼':3}\n",
        "  print(\"=\" * 45)\n",
        "\n",
        "  # # 커피 종류를 입력받습니다. \n",
        "  order = input('커피 종류를 입력해주세요.')\n",
        "  if order=='아메리카노':\n",
        "    print('아메리카노','주문 받았습니다')\n",
        "  elif order=='카페라떼':\n",
        "    print('카페라떼','주문 받았습니다')\n",
        "  elif order=='바닐라라떼':\n",
        "    print('바닐라라떼','주문 받았습니다')\n",
        "\n",
        "  if order in [1,2,3] :\n",
        "    # 입력한 커피 가격을 price 변수에 넣어줍니다. \n",
        "    price={1:4100,2:4600,3:5100}\n",
        "\n",
        "    cups = int(input(\"몇 잔을 드릴까요? 잔 수 입력 >>> \"))\n",
        "    # 총 금액을 계산하고 total_price 변수에 넣어줍니다.\n",
        "    total_price=int(price[order])*cups\n",
        "\n",
        "    money = int(input(f\"총 금액은 {total_price}원 입니다. 돈을 투입해주세요 >>> \"))\n",
        "    # 총 금액보다 투입 금액이 큰 경우 거스름돈을 계산하고 출력합니다.\n",
        "    if money>total_price:\n",
        "      change=money-total_price\n",
        "      print(f'잔돈 {change}원 입니다.')\n",
        "\n",
        "    # 총 금액보다 작은 금액을 입력한 경우 주문을 취소합니다.\n",
        "    elif money<total_price: \n",
        "      print(\"금액이 부족합니다. 주문이 취소되었습니다.\")\n",
        "\n",
        "  elif order == 4 :\n",
        "    # 4를 입력하면 주문을 종료하고 반복문을 빠져나갑니다.\n",
        "    print(\"주문을 종료합니다.\")\n",
        "    # 반복문 빠져나가기\n",
        "    break\n",
        "\n",
        "  # 1,2,3,4가 아닌 다른 숫자를 입력한 경우 \"잘못된 주문입니다\"를 출력합니다.\n",
        "  else :\n",
        "      print(\"잘못된 주문입니다.\")"
      ],
      "metadata": {
        "colab": {
          "base_uri": "https://localhost:8080/",
          "height": 668
        },
        "id": "Bvx7ALd3j4TE",
        "outputId": "65b673db-2a3f-4c49-f483-d9a428e8727a"
      },
      "execution_count": 44,
      "outputs": [
        {
          "output_type": "stream",
          "name": "stdout",
          "text": [
            "=============================================\n",
            "=============================================\n",
            "커피 종류를 입력해주세요.아메리카노\n",
            "아메리카노 주문 받았습니다\n",
            "잘못된 주문입니다.\n",
            "=============================================\n",
            "=============================================\n"
          ]
        },
        {
          "output_type": "error",
          "ename": "KeyboardInterrupt",
          "evalue": "ignored",
          "traceback": [
            "\u001b[0;31m---------------------------------------------------------------------------\u001b[0m",
            "\u001b[0;31mKeyboardInterrupt\u001b[0m                         Traceback (most recent call last)",
            "\u001b[0;32m/usr/local/lib/python3.7/dist-packages/ipykernel/kernelbase.py\u001b[0m in \u001b[0;36m_input_request\u001b[0;34m(self, prompt, ident, parent, password)\u001b[0m\n\u001b[1;32m    728\u001b[0m             \u001b[0;32mtry\u001b[0m\u001b[0;34m:\u001b[0m\u001b[0;34m\u001b[0m\u001b[0;34m\u001b[0m\u001b[0m\n\u001b[0;32m--> 729\u001b[0;31m                 \u001b[0mident\u001b[0m\u001b[0;34m,\u001b[0m \u001b[0mreply\u001b[0m \u001b[0;34m=\u001b[0m \u001b[0mself\u001b[0m\u001b[0;34m.\u001b[0m\u001b[0msession\u001b[0m\u001b[0;34m.\u001b[0m\u001b[0mrecv\u001b[0m\u001b[0;34m(\u001b[0m\u001b[0mself\u001b[0m\u001b[0;34m.\u001b[0m\u001b[0mstdin_socket\u001b[0m\u001b[0;34m,\u001b[0m \u001b[0;36m0\u001b[0m\u001b[0;34m)\u001b[0m\u001b[0;34m\u001b[0m\u001b[0;34m\u001b[0m\u001b[0m\n\u001b[0m\u001b[1;32m    730\u001b[0m             \u001b[0;32mexcept\u001b[0m \u001b[0mException\u001b[0m\u001b[0;34m:\u001b[0m\u001b[0;34m\u001b[0m\u001b[0;34m\u001b[0m\u001b[0m\n",
            "\u001b[0;32m/usr/local/lib/python3.7/dist-packages/jupyter_client/session.py\u001b[0m in \u001b[0;36mrecv\u001b[0;34m(self, socket, mode, content, copy)\u001b[0m\n\u001b[1;32m    802\u001b[0m         \u001b[0;32mtry\u001b[0m\u001b[0;34m:\u001b[0m\u001b[0;34m\u001b[0m\u001b[0;34m\u001b[0m\u001b[0m\n\u001b[0;32m--> 803\u001b[0;31m             \u001b[0mmsg_list\u001b[0m \u001b[0;34m=\u001b[0m \u001b[0msocket\u001b[0m\u001b[0;34m.\u001b[0m\u001b[0mrecv_multipart\u001b[0m\u001b[0;34m(\u001b[0m\u001b[0mmode\u001b[0m\u001b[0;34m,\u001b[0m \u001b[0mcopy\u001b[0m\u001b[0;34m=\u001b[0m\u001b[0mcopy\u001b[0m\u001b[0;34m)\u001b[0m\u001b[0;34m\u001b[0m\u001b[0;34m\u001b[0m\u001b[0m\n\u001b[0m\u001b[1;32m    804\u001b[0m         \u001b[0;32mexcept\u001b[0m \u001b[0mzmq\u001b[0m\u001b[0;34m.\u001b[0m\u001b[0mZMQError\u001b[0m \u001b[0;32mas\u001b[0m \u001b[0me\u001b[0m\u001b[0;34m:\u001b[0m\u001b[0;34m\u001b[0m\u001b[0;34m\u001b[0m\u001b[0m\n",
            "\u001b[0;32m/usr/local/lib/python3.7/dist-packages/zmq/sugar/socket.py\u001b[0m in \u001b[0;36mrecv_multipart\u001b[0;34m(self, flags, copy, track)\u001b[0m\n\u001b[1;32m    624\u001b[0m         \"\"\"\n\u001b[0;32m--> 625\u001b[0;31m         \u001b[0mparts\u001b[0m \u001b[0;34m=\u001b[0m \u001b[0;34m[\u001b[0m\u001b[0mself\u001b[0m\u001b[0;34m.\u001b[0m\u001b[0mrecv\u001b[0m\u001b[0;34m(\u001b[0m\u001b[0mflags\u001b[0m\u001b[0;34m,\u001b[0m \u001b[0mcopy\u001b[0m\u001b[0;34m=\u001b[0m\u001b[0mcopy\u001b[0m\u001b[0;34m,\u001b[0m \u001b[0mtrack\u001b[0m\u001b[0;34m=\u001b[0m\u001b[0mtrack\u001b[0m\u001b[0;34m)\u001b[0m\u001b[0;34m]\u001b[0m\u001b[0;34m\u001b[0m\u001b[0;34m\u001b[0m\u001b[0m\n\u001b[0m\u001b[1;32m    626\u001b[0m         \u001b[0;31m# have first part already, only loop while more to receive\u001b[0m\u001b[0;34m\u001b[0m\u001b[0;34m\u001b[0m\u001b[0;34m\u001b[0m\u001b[0m\n",
            "\u001b[0;32mzmq/backend/cython/socket.pyx\u001b[0m in \u001b[0;36mzmq.backend.cython.socket.Socket.recv\u001b[0;34m()\u001b[0m\n",
            "\u001b[0;32mzmq/backend/cython/socket.pyx\u001b[0m in \u001b[0;36mzmq.backend.cython.socket.Socket.recv\u001b[0;34m()\u001b[0m\n",
            "\u001b[0;32mzmq/backend/cython/socket.pyx\u001b[0m in \u001b[0;36mzmq.backend.cython.socket._recv_copy\u001b[0;34m()\u001b[0m\n",
            "\u001b[0;32m/usr/local/lib/python3.7/dist-packages/zmq/backend/cython/checkrc.pxd\u001b[0m in \u001b[0;36mzmq.backend.cython.checkrc._check_rc\u001b[0;34m()\u001b[0m\n",
            "\u001b[0;31mKeyboardInterrupt\u001b[0m: ",
            "\nDuring handling of the above exception, another exception occurred:\n",
            "\u001b[0;31mKeyboardInterrupt\u001b[0m                         Traceback (most recent call last)",
            "\u001b[0;32m<ipython-input-44-cf294d5a21d5>\u001b[0m in \u001b[0;36m<module>\u001b[0;34m()\u001b[0m\n\u001b[1;32m      5\u001b[0m \u001b[0;34m\u001b[0m\u001b[0m\n\u001b[1;32m      6\u001b[0m   \u001b[0;31m# # 커피 종류를 입력받습니다.\u001b[0m\u001b[0;34m\u001b[0m\u001b[0;34m\u001b[0m\u001b[0;34m\u001b[0m\u001b[0m\n\u001b[0;32m----> 7\u001b[0;31m   \u001b[0morder\u001b[0m \u001b[0;34m=\u001b[0m \u001b[0minput\u001b[0m\u001b[0;34m(\u001b[0m\u001b[0;34m'커피 종류를 입력해주세요.'\u001b[0m\u001b[0;34m)\u001b[0m\u001b[0;34m\u001b[0m\u001b[0;34m\u001b[0m\u001b[0m\n\u001b[0m\u001b[1;32m      8\u001b[0m   \u001b[0;32mif\u001b[0m \u001b[0morder\u001b[0m\u001b[0;34m==\u001b[0m\u001b[0;34m'아메리카노'\u001b[0m\u001b[0;34m:\u001b[0m\u001b[0;34m\u001b[0m\u001b[0;34m\u001b[0m\u001b[0m\n\u001b[1;32m      9\u001b[0m     \u001b[0mprint\u001b[0m\u001b[0;34m(\u001b[0m\u001b[0;34m'아메리카노'\u001b[0m\u001b[0;34m,\u001b[0m\u001b[0;34m'주문 받았습니다'\u001b[0m\u001b[0;34m)\u001b[0m\u001b[0;34m\u001b[0m\u001b[0;34m\u001b[0m\u001b[0m\n",
            "\u001b[0;32m/usr/local/lib/python3.7/dist-packages/ipykernel/kernelbase.py\u001b[0m in \u001b[0;36mraw_input\u001b[0;34m(self, prompt)\u001b[0m\n\u001b[1;32m    702\u001b[0m             \u001b[0mself\u001b[0m\u001b[0;34m.\u001b[0m\u001b[0m_parent_ident\u001b[0m\u001b[0;34m,\u001b[0m\u001b[0;34m\u001b[0m\u001b[0;34m\u001b[0m\u001b[0m\n\u001b[1;32m    703\u001b[0m             \u001b[0mself\u001b[0m\u001b[0;34m.\u001b[0m\u001b[0m_parent_header\u001b[0m\u001b[0;34m,\u001b[0m\u001b[0;34m\u001b[0m\u001b[0;34m\u001b[0m\u001b[0m\n\u001b[0;32m--> 704\u001b[0;31m             \u001b[0mpassword\u001b[0m\u001b[0;34m=\u001b[0m\u001b[0;32mFalse\u001b[0m\u001b[0;34m,\u001b[0m\u001b[0;34m\u001b[0m\u001b[0;34m\u001b[0m\u001b[0m\n\u001b[0m\u001b[1;32m    705\u001b[0m         )\n\u001b[1;32m    706\u001b[0m \u001b[0;34m\u001b[0m\u001b[0m\n",
            "\u001b[0;32m/usr/local/lib/python3.7/dist-packages/ipykernel/kernelbase.py\u001b[0m in \u001b[0;36m_input_request\u001b[0;34m(self, prompt, ident, parent, password)\u001b[0m\n\u001b[1;32m    732\u001b[0m             \u001b[0;32mexcept\u001b[0m \u001b[0mKeyboardInterrupt\u001b[0m\u001b[0;34m:\u001b[0m\u001b[0;34m\u001b[0m\u001b[0;34m\u001b[0m\u001b[0m\n\u001b[1;32m    733\u001b[0m                 \u001b[0;31m# re-raise KeyboardInterrupt, to truncate traceback\u001b[0m\u001b[0;34m\u001b[0m\u001b[0;34m\u001b[0m\u001b[0;34m\u001b[0m\u001b[0m\n\u001b[0;32m--> 734\u001b[0;31m                 \u001b[0;32mraise\u001b[0m \u001b[0mKeyboardInterrupt\u001b[0m\u001b[0;34m\u001b[0m\u001b[0;34m\u001b[0m\u001b[0m\n\u001b[0m\u001b[1;32m    735\u001b[0m             \u001b[0;32melse\u001b[0m\u001b[0;34m:\u001b[0m\u001b[0;34m\u001b[0m\u001b[0;34m\u001b[0m\u001b[0m\n\u001b[1;32m    736\u001b[0m                 \u001b[0;32mbreak\u001b[0m\u001b[0;34m\u001b[0m\u001b[0;34m\u001b[0m\u001b[0m\n",
            "\u001b[0;31mKeyboardInterrupt\u001b[0m: "
          ]
        }
      ]
    },
    {
      "cell_type": "code",
      "source": [
        ""
      ],
      "metadata": {
        "id": "FA7kvqZfCJiZ"
      },
      "execution_count": null,
      "outputs": []
    }
  ]
}